{
 "cells": [
  {
   "cell_type": "code",
   "execution_count": 35,
   "metadata": {},
   "outputs": [],
   "source": [
    "import numpy as np\n",
    "from sklearn.model_selection import train_test_split\n",
    "import matplotlib.pyplot as plt"
   ]
  },
  {
   "cell_type": "code",
   "execution_count": 33,
   "metadata": {},
   "outputs": [
    {
     "name": "stdout",
     "output_type": "stream",
     "text": [
      "Training dataset dimensions before reshaping:  (60000, 28, 28)\n",
      "Training dataset dimensions after reshaping:  (60000, 784)\n"
     ]
    }
   ],
   "source": [
    "path = 'mnist.npz'\n",
    "mnist = np.load(path) # The MNIST dataset has four different datasets\n",
    "            \n",
    "train_labels = mnist['train_labels']\n",
    "test_labels = mnist['test_labels']\n",
    "            \n",
    "train_data = mnist['train_data']\n",
    "print(\"Training dataset dimensions before reshaping: \", train_data.shape)\n",
    "\n",
    "train_data = train_data.reshape(train_data.shape[0],-1)\n",
    "print(\"Training dataset dimensions after reshaping: \", train_data.shape)\n",
    "\n",
    "test_data = mnist['test_data']\n",
    "test_data = test_data.reshape(test_data.shape[0],-1)"
   ]
  },
  {
   "cell_type": "code",
   "execution_count": 36,
   "metadata": {},
   "outputs": [
    {
     "data": {
      "image/png": "[encoded data removed]",
      "text/plain": [
       "<Figure size 432x432 with 16 Axes>"
      ]
     },
     "metadata": {
      "needs_background": "light"
     },
     "output_type": "display_data"
    }
   ],
   "source": [
    "# Creates subplots within a single call\n",
    "fig, axes = plt.subplots(4, 4, figsize=(6, 6))\n",
    "\n",
    "# Automatically adjust subplot parameters to give specified padding.\n",
    "fig.tight_layout()\n",
    "\n",
    "# Randomly pick 16 indices from the training data\n",
    "random_idx = np.random.choice(train_data.shape[0], size=16, replace=False)\n",
    "\n",
    "for i in range(4):\n",
    "    for j in range(4):\n",
    "        idx = j + i * 4\n",
    "        axes[i, j].set_title(train_labels[idx])\n",
    "        axes[i, j].imshow(train_data[idx].reshape(28, 28), cmap='gray')\n",
    "        axes[i, j].axis('off')\n",
    "\n",
    "plt.show()"
   ]
  },
  {
   "cell_type": "code",
   "execution_count": 30,
   "metadata": {},
   "outputs": [
    {
     "name": "stdout",
     "output_type": "stream",
     "text": [
      "Training size:  (48000, 784)\n",
      "Validation size:  (48000, 784)\n"
     ]
    }
   ],
   "source": [
    "# Split into training and validation set\n",
    "import random\n",
    "from random import randint\n",
    "\n",
    "random.seed(65)\n",
    "random_number = randint(0, 100)\n",
    "\n",
    "X_train, X_val, y_train, y_val = train_test_split(train_data, train_labels, test_size=0.2)\n",
    "\n",
    "print(\"Training size: \", X_train.shape)\n",
    "print(\"Validation size: \", X_train.shape)"
   ]
  },
  {
   "cell_type": "code",
   "execution_count": null,
   "metadata": {},
   "outputs": [],
   "source": [
    "from sklearn.linear_model import LogisticRegression\n",
    "\n",
    "logistic_model = LogisticRegression(max_iter=10000, solver = 'lbfgs')\n",
    "logistic_model.fit(X_train, y_train)\n"
   ]
  },
  {
   "cell_type": "code",
   "execution_count": null,
   "metadata": {},
   "outputs": [],
   "source": []
  },
  {
   "cell_type": "code",
   "execution_count": null,
   "metadata": {},
   "outputs": [],
   "source": []
  },
  {
   "cell_type": "code",
   "execution_count": null,
   "metadata": {},
   "outputs": [],
   "source": []
  },
  {
   "cell_type": "code",
   "execution_count": null,
   "metadata": {},
   "outputs": [],
   "source": []
  },
  {
   "cell_type": "code",
   "execution_count": null,
   "metadata": {},
   "outputs": [],
   "source": []
  },
  {
   "cell_type": "code",
   "execution_count": null,
   "metadata": {},
   "outputs": [],
   "source": []
  },
  {
   "cell_type": "code",
   "execution_count": null,
   "metadata": {},
   "outputs": [],
   "source": []
  },
  {
   "cell_type": "code",
   "execution_count": null,
   "metadata": {},
   "outputs": [],
   "source": []
  },
  {
   "cell_type": "code",
   "execution_count": 16,
   "metadata": {},
   "outputs": [
    {
     "data": {
      "text/plain": [
       "array([5, 0, 4, ..., 5, 6, 8])"
      ]
     },
     "execution_count": 16,
     "metadata": {},
     "output_type": "execute_result"
    }
   ],
   "source": [
    "mnist.train_labels"
   ]
  },
  {
   "cell_type": "code",
   "execution_count": null,
   "metadata": {},
   "outputs": [],
   "source": []
  },
  {
   "cell_type": "code",
   "execution_count": null,
   "metadata": {},
   "outputs": [],
   "source": []
  }
 ],
 "metadata": {
  "kernelspec": {
   "display_name": "Python 3",
   "language": "python",
   "name": "python3"
  },
  "language_info": {
   "codemirror_mode": {
    "name": "ipython",
    "version": 3
   },
   "file_extension": ".py",
   "mimetype": "text/x-python",
   "name": "python",
   "nbconvert_exporter": "python",
   "pygments_lexer": "ipython3",
   "version": "3.7.6"
  }
 },
 "nbformat": 4,
 "nbformat_minor": 4
}
